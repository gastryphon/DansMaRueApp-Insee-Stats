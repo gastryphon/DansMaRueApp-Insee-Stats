{
 "cells": [
  {
   "cell_type": "code",
   "execution_count": 82,
   "id": "f7aeb9e7",
   "metadata": {},
   "outputs": [],
   "source": [
    "import pandas as pd\n",
    "import re"
   ]
  },
  {
   "cell_type": "code",
   "execution_count": 83,
   "id": "83e41c1b",
   "metadata": {},
   "outputs": [],
   "source": [
    "dmr=pd.read_csv(r'/Users/davidpitoun/Downloads/dans-ma-rue (1).csv', sep=\";\")"
   ]
  },
  {
   "cell_type": "code",
   "execution_count": 84,
   "id": "015da6ab",
   "metadata": {},
   "outputs": [],
   "source": [
    "#remove instances of []\n",
    "dmr['SOUS TYPE DECLARATION'] = dmr['SOUS TYPE DECLARATION'].str.replace(r\"\\[.*?\\] \",\"\", regex=True)"
   ]
  },
  {
   "cell_type": "code",
   "execution_count": 85,
   "id": "cf2a181a",
   "metadata": {},
   "outputs": [],
   "source": [
    "#remove instances of ()\n",
    "dmr['SOUS TYPE DECLARATION'] = dmr['SOUS TYPE DECLARATION'].str.replace(r\"\\(.*?\\)\",\"\", regex=True)"
   ]
  },
  {
   "cell_type": "code",
   "execution_count": 86,
   "id": "eba3cf01",
   "metadata": {},
   "outputs": [],
   "source": [
    "#splits string after : and keeps beginning at index[0]\n",
    "dmr['SOUS TYPE DECLARATION'] = dmr['SOUS TYPE DECLARATION'].str.split(':').str[0]"
   ]
  },
  {
   "cell_type": "code",
   "execution_count": 87,
   "id": "323a5866",
   "metadata": {},
   "outputs": [],
   "source": [
    "#splits string after - and keeps beginning at index[0]\n",
    "dmr['SOUS TYPE DECLARATION'] = dmr['SOUS TYPE DECLARATION'].str.split('-').str[0]"
   ]
  },
  {
   "cell_type": "code",
   "execution_count": 88,
   "id": "9f612f56",
   "metadata": {},
   "outputs": [],
   "source": [
    "dmr['SOUS TYPE DECLARATION'] = dmr['SOUS TYPE DECLARATION'].str.replace(r\"U2\",\"\", regex=True)"
   ]
  },
  {
   "cell_type": "code",
   "execution_count": 89,
   "id": "ec40ed83",
   "metadata": {},
   "outputs": [],
   "source": [
    "dmr['SOUS TYPE DECLARATION'] = dmr['SOUS TYPE DECLARATION'].str.replace(r\"¿\",\"oe\", regex=True)"
   ]
  },
  {
   "cell_type": "code",
   "execution_count": 90,
   "id": "0bd0abf6",
   "metadata": {},
   "outputs": [],
   "source": [
    "dmr['SOUS TYPE DECLARATION'] = dmr['SOUS TYPE DECLARATION'].str.replace(r\"  \",\" \", regex=True)"
   ]
  },
  {
   "cell_type": "code",
   "execution_count": 91,
   "id": "a0f474d9",
   "metadata": {},
   "outputs": [],
   "source": [
    "dmr['SOUS TYPE DECLARATION'] = dmr['SOUS TYPE DECLARATION'].str.replace(r\"Affiches, autocollants ou graffitis sur socle de statue ou d'oeuvre d'art\",\"Affiches, autocollants ou graffitis sur statue ou d'oeuvre d'art\", regex=True)"
   ]
  },
  {
   "cell_type": "code",
   "execution_count": 92,
   "id": "9d6ad273",
   "metadata": {},
   "outputs": [],
   "source": [
    "dmr['SOUS TYPE DECLARATION'] = dmr['SOUS TYPE DECLARATION'].str.replace(r\"Affiches, autocollants ou graffitis sur statue ou d'oeuvre d'art à l'inventaire DAC\",\"Affiches, autocollants ou graffitis sur statue ou d'oeuvre d'art\", regex=True)"
   ]
  },
  {
   "cell_type": "code",
   "execution_count": 93,
   "id": "19afff1a",
   "metadata": {},
   "outputs": [],
   "source": [
    "dmr['SOUS TYPE DECLARATION'] = dmr['SOUS TYPE DECLARATION'].str.replace(r\"Épave de trottinette d'un opérateur non autorisé\",\"Épave de trottinette\", regex=True)"
   ]
  },
  {
   "cell_type": "code",
   "execution_count": 94,
   "id": "81524a25",
   "metadata": {},
   "outputs": [],
   "source": [
    "#removes leading/trailing whitespaces\n",
    "dmr['SOUS TYPE DECLARATION'] = dmr['SOUS TYPE DECLARATION'].str.rstrip(to_strip=None)"
   ]
  },
  {
   "cell_type": "code",
   "execution_count": 95,
   "id": "baeb32b6",
   "metadata": {},
   "outputs": [
    {
     "data": {
      "text/plain": [
       "array(['Épave de vélo',\n",
       "       'Affiches, autocollants ou graffitis sur autres supports',\n",
       "       'Automobile ou autre véhicule motorisé en stationnement gênant',\n",
       "       'Autres objets encombrants abandonnés',\n",
       "       'Étalages et terrasses à usage commercial',\n",
       "       'Déchets et/ou salissures divers', 'Cartons',\n",
       "       'Affiches ou autocollants sur mur, façade sur rue, pont',\n",
       "       'Graffitis sur rideau métallique',\n",
       "       'Graffitis sur mur, façade sur rue, pont', 'Épave de deux',\n",
       "       'Gravats ou déchets de chantier', 'Protection', 'Deux',\n",
       "       'Bac roulant à ordures ménagères',\n",
       "       \"Affiches, autocollants ou graffitis sur statue, monument, oeuvre d'art\",\n",
       "       'Gênes à la circulation des piétons', 'Panneaux routiers',\n",
       "       'Trottoirs', 'Propreté des équipements de collecte des déchets',\n",
       "       'Objets infestés de punaises de lit',\n",
       "       'Arbre dangereux ou en mauvais état', 'Déjections canines',\n",
       "       'Graffitis', \"Accumulation d'eau\",\n",
       "       \"Épave d'automobile ou d'un autre véhicule motorisé\", 'Chaussées',\n",
       "       'Sacs de déchets ménagers', 'Feux tricolores',\n",
       "       \"Boitier, coffret ou armoire électrique ouvert en pied d'immeuble\",\n",
       "       'Épave de trottinette', 'Barrières et autres objets de chantier',\n",
       "       'Chantier',\n",
       "       \"Affiches ou autocollants sur mur, façade sur rue, pont, jardinière, descente d'eau pluviale\",\n",
       "       'Objets abandonnés rubalisés', \"Pied d'arbre\",\n",
       "       'A requalifier de ramen', 'Chariot de supermarché',\n",
       "       \"Épanchement d'urine\", 'Herbes éparses',\n",
       "       'Lampadaire en mauvais état', 'Trappes ou grilles au sol',\n",
       "       'Éclairage public éteint la nuit',\n",
       "       'Objets appartenant à des personnes à la rue', 'Propreté du sol',\n",
       "       'Affiches', 'Autres', 'Inscriptions haineuses',\n",
       "       'Nuisances lumineuses', 'Affiches agrafées sur un mobilier urbain',\n",
       "       'Patrouille propreté DT',\n",
       "       'Distributeur de savon ou de solution hydroalcoolique',\n",
       "       'Graffitis découverts sous des affiches à traiter en urgence',\n",
       "       'Présence de rats', 'Aménagements cyclables',\n",
       "       \"Autres problèmes d'eau\", 'Information ou publicité',\n",
       "       'Prospectus utilisant frauduleusement le logo et / ou les couleurs de la Ville de Paris',\n",
       "       'Collecte des déchets',\n",
       "       'Propreté des berges historiques nécessitant une intervention de la Fonctionnelle',\n",
       "       'Cartons rubalisés', 'Patrouille propreté Fonctionnelle',\n",
       "       'Éclairage public allumé le jour', 'Mégots',\n",
       "       \"Autres problèmes d'animaux et d'insectes\",\n",
       "       \"Propreté d'une Porte de Paris nécessitant l'intervention de la Fonctionnelle\",\n",
       "       \"Épave de Vélib'\", 'Peinture sur chaussée',\n",
       "       'Renfort Fonctionnelle', 'Fontaine ornementale',\n",
       "       \"Fontaine distribuant de l'eau potable\", 'Arbre à élaguer',\n",
       "       'WC publics',\n",
       "       'Affiches ou graffitis à traiter par la Circonscription Fonctionnelle',\n",
       "       'Cartons appartenant à des personnes à la rue',\n",
       "       'Fils électriques apparents sur lampadaire ou sur armoire électrique',\n",
       "       'Marquage au sol effacé', 'Pelouse en mauvais état',\n",
       "       'Objets infestés emballés', 'Patrouille propreté Mission Propreté',\n",
       "       'Sacs de déchets ménagers rubalisés', 'Chariot cadenassé',\n",
       "       \"Boitier pour l'éclairage public ouvert en pied d'immeuble\",\n",
       "       'Inscriptions haineuses avérées constat demandé',\n",
       "       'Cadenas, chaîne, caddie', 'Arbuste ou jardinière en mauvais état',\n",
       "       'Gravats ou déchets de chantier rubalisés', 'Horodateur',\n",
       "       'Sacs de déchets ménagers appartenant à des personnes à la rue',\n",
       "       \"Propreté des plans d'eau et des fontaines ornementales\",\n",
       "       'Affiches A4 ou A3 à traiter par la DT', 'Escaliers',\n",
       "       'Affiches coupées à ramasser',\n",
       "       'Épave de vélo ou de trottinette dans la Seine',\n",
       "       \"Fuite d'eau sur WC publics\", 'Affiches non découpées à ramasser',\n",
       "       'Présence de souris', 'Objets infestés non emballés',\n",
       "       \"Propreté du boulevard périphérique ou d'une voie rapide nécessitant une intervention de la Fonctionnelle\",\n",
       "       'Armoire, boitier, coffret, trappe électrique de marché découvert alimentaire',\n",
       "       'Propreté des plots et îlots directionnels',\n",
       "       'Affiches ou graffitis dont le traitement nécessite une nacelle',\n",
       "       'Propreté des encorbellements de ponts',\n",
       "       'Affiches, autocollants ou graffitis sur panneaux publicitaires',\n",
       "       \"Herbes nécessitant l'organisation d'une opération de tonte spécifique\",\n",
       "       \"Affiches, autocollants ou graffitis sur statue ou d'oeuvre d'art\",\n",
       "       \"Affiches, autocollants ou graffitis sur journal électronique d'information\"],\n",
       "      dtype=object)"
      ]
     },
     "execution_count": 95,
     "metadata": {},
     "output_type": "execute_result"
    }
   ],
   "source": [
    "#\"\" OR '' string containers are array defined and can't be set to ''\n",
    "dmr['SOUS TYPE DECLARATION'].unique()"
   ]
  },
  {
   "cell_type": "code",
   "execution_count": 96,
   "id": "6266d825",
   "metadata": {},
   "outputs": [
    {
     "data": {
      "text/plain": [
       "107"
      ]
     },
     "execution_count": 96,
     "metadata": {},
     "output_type": "execute_result"
    }
   ],
   "source": [
    "dmr['SOUS TYPE DECLARATION'].nunique()"
   ]
  },
  {
   "cell_type": "code",
   "execution_count": 97,
   "id": "486a8a97",
   "metadata": {},
   "outputs": [
    {
     "data": {
      "text/plain": [
       "array(['IOPage DMR Paris.fr application', 'Androï', 'Page DMR Paris.fr',\n",
       "       'Back Office'], dtype=object)"
      ]
     },
     "execution_count": 97,
     "metadata": {},
     "output_type": "execute_result"
    }
   ],
   "source": [
    "dmr['OUTIL SOURCE'].unique()"
   ]
  },
  {
   "cell_type": "code",
   "execution_count": 98,
   "id": "14e35484",
   "metadata": {},
   "outputs": [],
   "source": [
    "dmr['OUTIL SOURCE']=dmr['OUTIL SOURCE'].str.replace(r\"IOPage DMR Paris.fr application\",\"IOS App\", regex=True)"
   ]
  },
  {
   "cell_type": "code",
   "execution_count": 99,
   "id": "b40f18c2",
   "metadata": {},
   "outputs": [],
   "source": [
    "dmr['OUTIL SOURCE']=dmr['OUTIL SOURCE'].str.replace(r\"Andro\",\"Androïd App\", regex=True)"
   ]
  },
  {
   "cell_type": "code",
   "execution_count": 100,
   "id": "d0632e29",
   "metadata": {},
   "outputs": [
    {
     "data": {
      "text/plain": [
       "array(['IOS App', 'Androïd Appï', 'Page DMR Paris.fr', 'Back Office'],\n",
       "      dtype=object)"
      ]
     },
     "execution_count": 100,
     "metadata": {},
     "output_type": "execute_result"
    }
   ],
   "source": [
    "dmr['OUTIL SOURCE'].unique()"
   ]
  },
  {
   "cell_type": "code",
   "execution_count": 101,
   "id": "cc0a6bc8",
   "metadata": {},
   "outputs": [],
   "source": [
    "dmr['OUTIL SOURCE']=dmr['OUTIL SOURCE'].str.replace(r\"Androïd Appïd Appï\",\"Android App\", regex=True)"
   ]
  },
  {
   "cell_type": "code",
   "execution_count": 102,
   "id": "e49ec312",
   "metadata": {},
   "outputs": [],
   "source": [
    "dmr['OUTIL SOURCE']=dmr['OUTIL SOURCE'].str.replace(r\"Page DMR Paris.fr\",\"Web page DMRParis\", regex=True)"
   ]
  },
  {
   "cell_type": "code",
   "execution_count": 103,
   "id": "c33c7589",
   "metadata": {},
   "outputs": [
    {
     "data": {
      "text/plain": [
       "0         14\n",
       "1         13\n",
       "2          9\n",
       "3         11\n",
       "4         10\n",
       "          ..\n",
       "940706    11\n",
       "940707    11\n",
       "940708    12\n",
       "940709    15\n",
       "940710    19\n",
       "Name: ARRONDISSEMENT, Length: 940711, dtype: int64"
      ]
     },
     "execution_count": 103,
     "metadata": {},
     "output_type": "execute_result"
    }
   ],
   "source": [
    "dmr['ARRONDISSEMENT']"
   ]
  },
  {
   "cell_type": "code",
   "execution_count": 111,
   "id": "31e55e3b",
   "metadata": {},
   "outputs": [
    {
     "data": {
      "text/plain": [
       "Index(['ID DECLARATION', 'TYPE DECLARATION', 'SOUS TYPE DECLARATION',\n",
       "       'ADRESSE', 'CODE POSTAL', 'ARRONDISSEMENT', 'DATE DECLARATION',\n",
       "       'OUTIL SOURCE', 'INTERVENANT', 'ID_DMR', 'Coordonnées Lat/Long'],\n",
       "      dtype='object')"
      ]
     },
     "execution_count": 111,
     "metadata": {},
     "output_type": "execute_result"
    }
   ],
   "source": [
    "dmr.columns"
   ]
  },
  {
   "cell_type": "code",
   "execution_count": 113,
   "id": "58167e41",
   "metadata": {},
   "outputs": [],
   "source": [
    "dmr['OUTIL SOURCE']=dmr['OUTIL SOURCE'].str.replace(r\"Androïd Appï\",\"Android App\", regex=True)"
   ]
  },
  {
   "cell_type": "code",
   "execution_count": 106,
   "id": "34bd1f4b",
   "metadata": {},
   "outputs": [],
   "source": [
    "dmr=dmr.drop(columns =['VILLE', 'CONSEIL DE QUARTIER'])"
   ]
  },
  {
   "cell_type": "code",
   "execution_count": 108,
   "id": "d1c22afb",
   "metadata": {},
   "outputs": [],
   "source": [
    "dmr=dmr.drop(columns =['MOIS DECLARATION', 'ANNEE DECLARATION', 'geo_shape'])"
   ]
  },
  {
   "cell_type": "code",
   "execution_count": 126,
   "id": "deca39fd",
   "metadata": {},
   "outputs": [],
   "source": [
    "dmr = dmr.rename(columns={'geo_point_2d':'Coordonnees Lat/Long'})\n"
   ]
  },
  {
   "cell_type": "code",
   "execution_count": 121,
   "id": "3ba69fe3",
   "metadata": {},
   "outputs": [],
   "source": [
    "dmr=dmr.set_index('ID_DMR')"
   ]
  },
  {
   "cell_type": "code",
   "execution_count": 128,
   "id": "5d8d6863",
   "metadata": {},
   "outputs": [
    {
     "data": {
      "text/html": [
       "<div>\n",
       "<style scoped>\n",
       "    .dataframe tbody tr th:only-of-type {\n",
       "        vertical-align: middle;\n",
       "    }\n",
       "\n",
       "    .dataframe tbody tr th {\n",
       "        vertical-align: top;\n",
       "    }\n",
       "\n",
       "    .dataframe thead th {\n",
       "        text-align: right;\n",
       "    }\n",
       "</style>\n",
       "<table border=\"1\" class=\"dataframe\">\n",
       "  <thead>\n",
       "    <tr style=\"text-align: right;\">\n",
       "      <th></th>\n",
       "      <th>TYPE DECLARATION</th>\n",
       "      <th>SOUS TYPE DECLARATION</th>\n",
       "      <th>ADRESSE</th>\n",
       "      <th>CODE POSTAL</th>\n",
       "      <th>ARRONDISSEMENT</th>\n",
       "      <th>DATE DECLARATION</th>\n",
       "      <th>OUTIL SOURCE</th>\n",
       "      <th>INTERVENANT</th>\n",
       "      <th>Coordonnées Lat/Long</th>\n",
       "    </tr>\n",
       "    <tr>\n",
       "      <th>ID_DMR</th>\n",
       "      <th></th>\n",
       "      <th></th>\n",
       "      <th></th>\n",
       "      <th></th>\n",
       "      <th></th>\n",
       "      <th></th>\n",
       "      <th></th>\n",
       "      <th></th>\n",
       "      <th></th>\n",
       "    </tr>\n",
       "  </thead>\n",
       "  <tbody>\n",
       "    <tr>\n",
       "      <th>A2021E060183</th>\n",
       "      <td>Autos, motos, vélos...</td>\n",
       "      <td>Épave de vélo</td>\n",
       "      <td>141 Rue du Château, 75014 PARIS</td>\n",
       "      <td>75014</td>\n",
       "      <td>14</td>\n",
       "      <td>2021-05-26</td>\n",
       "      <td>IOS App</td>\n",
       "      <td>DPE-STPP-Fonctionnelle</td>\n",
       "      <td>48.83457599694037,2.321546598387263</td>\n",
       "    </tr>\n",
       "    <tr>\n",
       "      <th>G2021E060186</th>\n",
       "      <td>Graffitis, tags, affiches et autocollants</td>\n",
       "      <td>Affiches, autocollants ou graffitis sur autres...</td>\n",
       "      <td>3 Boulevard Saint-Marcel, 75005 PARIS</td>\n",
       "      <td>75013</td>\n",
       "      <td>13</td>\n",
       "      <td>2021-05-26</td>\n",
       "      <td>Android App</td>\n",
       "      <td>graffitis</td>\n",
       "      <td>48.839469995367125,2.361047697391806</td>\n",
       "    </tr>\n",
       "    <tr>\n",
       "      <th>G2021E060949</th>\n",
       "      <td>Autos, motos, vélos...</td>\n",
       "      <td>Automobile ou autre véhicule motorisé en stati...</td>\n",
       "      <td>2 Rue Taitbout, 75009 PARIS</td>\n",
       "      <td>75009</td>\n",
       "      <td>9</td>\n",
       "      <td>2021-05-26</td>\n",
       "      <td>Android App</td>\n",
       "      <td>DPMP-SCOP</td>\n",
       "      <td>48.87154799553221,2.336885696482044</td>\n",
       "    </tr>\n",
       "    <tr>\n",
       "      <th>G2021E060973</th>\n",
       "      <td>Objets abandonnés</td>\n",
       "      <td>Autres objets encombrants abandonnés</td>\n",
       "      <td>130 Rue du Chemin Vert, 75011 PARIS</td>\n",
       "      <td>75011</td>\n",
       "      <td>11</td>\n",
       "      <td>2021-05-26</td>\n",
       "      <td>Android App</td>\n",
       "      <td>Ramen en tant que prestataire de DansMaRue</td>\n",
       "      <td>48.86221999949007,2.384709806533554</td>\n",
       "    </tr>\n",
       "    <tr>\n",
       "      <th>S2021E061788</th>\n",
       "      <td>Activités commerciales et professionnelles</td>\n",
       "      <td>Étalages et terrasses à usage commercial</td>\n",
       "      <td>74 quai de Jemmapes, 75010 PARIS</td>\n",
       "      <td>75010</td>\n",
       "      <td>10</td>\n",
       "      <td>2021-05-26</td>\n",
       "      <td>Web page DMRParis</td>\n",
       "      <td>DPMP avec un découpage en circonscription</td>\n",
       "      <td>48.871597003272086,2.365587005327079</td>\n",
       "    </tr>\n",
       "    <tr>\n",
       "      <th>...</th>\n",
       "      <td>...</td>\n",
       "      <td>...</td>\n",
       "      <td>...</td>\n",
       "      <td>...</td>\n",
       "      <td>...</td>\n",
       "      <td>...</td>\n",
       "      <td>...</td>\n",
       "      <td>...</td>\n",
       "      <td>...</td>\n",
       "    </tr>\n",
       "    <tr>\n",
       "      <th>A2021H033269</th>\n",
       "      <td>Autos, motos, vélos...</td>\n",
       "      <td>Épave de vélo</td>\n",
       "      <td>59 rue Alexandre Dumas, 75011 PARIS</td>\n",
       "      <td>75011</td>\n",
       "      <td>11</td>\n",
       "      <td>2021-08-17</td>\n",
       "      <td>IOS App</td>\n",
       "      <td>DPMP-UEV</td>\n",
       "      <td>48.854323999797636,2.395608996599215</td>\n",
       "    </tr>\n",
       "    <tr>\n",
       "      <th>G2021H033275</th>\n",
       "      <td>Objets abandonnés</td>\n",
       "      <td>Autres objets encombrants abandonnés</td>\n",
       "      <td>2 Rue Alexandre Dumas, 75011 PARIS</td>\n",
       "      <td>75011</td>\n",
       "      <td>11</td>\n",
       "      <td>2021-08-17</td>\n",
       "      <td>Android App</td>\n",
       "      <td>Ramen en tant que prestataire de DansMaRue</td>\n",
       "      <td>48.85287000096654,2.389044001054556</td>\n",
       "    </tr>\n",
       "    <tr>\n",
       "      <th>G2021H029981</th>\n",
       "      <td>Graffitis, tags, affiches et autocollants</td>\n",
       "      <td>Graffitis sur rideau métallique</td>\n",
       "      <td>1 Rue de Prague, 75012 PARIS</td>\n",
       "      <td>75012</td>\n",
       "      <td>12</td>\n",
       "      <td>2021-08-16</td>\n",
       "      <td>Android App</td>\n",
       "      <td>graffitis</td>\n",
       "      <td>48.84868599841297,2.375873306775234</td>\n",
       "    </tr>\n",
       "    <tr>\n",
       "      <th>G2021H029984</th>\n",
       "      <td>Objets abandonnés</td>\n",
       "      <td>Autres objets encombrants abandonnés</td>\n",
       "      <td>1 Passage Sécurité, 75015 PARIS</td>\n",
       "      <td>75015</td>\n",
       "      <td>15</td>\n",
       "      <td>2021-08-16</td>\n",
       "      <td>Android App</td>\n",
       "      <td>Ramen en tant que prestataire de DansMaRue</td>\n",
       "      <td>48.84935999657759,2.2965802985234403</td>\n",
       "    </tr>\n",
       "    <tr>\n",
       "      <th>G2021H030811</th>\n",
       "      <td>Objets abandonnés</td>\n",
       "      <td>Autres objets encombrants abandonnés</td>\n",
       "      <td>16 Rue Clovis Hugues, 75019 PARIS</td>\n",
       "      <td>75019</td>\n",
       "      <td>19</td>\n",
       "      <td>2021-08-16</td>\n",
       "      <td>Android App</td>\n",
       "      <td>Ramen en tant que prestataire de DansMaRue</td>\n",
       "      <td>48.88255000234474,2.373852006423219</td>\n",
       "    </tr>\n",
       "  </tbody>\n",
       "</table>\n",
       "<p>940711 rows × 9 columns</p>\n",
       "</div>"
      ],
      "text/plain": [
       "                                        TYPE DECLARATION  \\\n",
       "ID_DMR                                                     \n",
       "A2021E060183                      Autos, motos, vélos...   \n",
       "G2021E060186   Graffitis, tags, affiches et autocollants   \n",
       "G2021E060949                      Autos, motos, vélos...   \n",
       "G2021E060973                           Objets abandonnés   \n",
       "S2021E061788  Activités commerciales et professionnelles   \n",
       "...                                                  ...   \n",
       "A2021H033269                      Autos, motos, vélos...   \n",
       "G2021H033275                           Objets abandonnés   \n",
       "G2021H029981   Graffitis, tags, affiches et autocollants   \n",
       "G2021H029984                           Objets abandonnés   \n",
       "G2021H030811                           Objets abandonnés   \n",
       "\n",
       "                                          SOUS TYPE DECLARATION  \\\n",
       "ID_DMR                                                            \n",
       "A2021E060183                                      Épave de vélo   \n",
       "G2021E060186  Affiches, autocollants ou graffitis sur autres...   \n",
       "G2021E060949  Automobile ou autre véhicule motorisé en stati...   \n",
       "G2021E060973               Autres objets encombrants abandonnés   \n",
       "S2021E061788           Étalages et terrasses à usage commercial   \n",
       "...                                                         ...   \n",
       "A2021H033269                                      Épave de vélo   \n",
       "G2021H033275               Autres objets encombrants abandonnés   \n",
       "G2021H029981                    Graffitis sur rideau métallique   \n",
       "G2021H029984               Autres objets encombrants abandonnés   \n",
       "G2021H030811               Autres objets encombrants abandonnés   \n",
       "\n",
       "                                            ADRESSE  CODE POSTAL  \\\n",
       "ID_DMR                                                             \n",
       "A2021E060183        141 Rue du Château, 75014 PARIS        75014   \n",
       "G2021E060186  3 Boulevard Saint-Marcel, 75005 PARIS        75013   \n",
       "G2021E060949            2 Rue Taitbout, 75009 PARIS        75009   \n",
       "G2021E060973    130 Rue du Chemin Vert, 75011 PARIS        75011   \n",
       "S2021E061788       74 quai de Jemmapes, 75010 PARIS        75010   \n",
       "...                                             ...          ...   \n",
       "A2021H033269    59 rue Alexandre Dumas, 75011 PARIS        75011   \n",
       "G2021H033275     2 Rue Alexandre Dumas, 75011 PARIS        75011   \n",
       "G2021H029981           1 Rue de Prague, 75012 PARIS        75012   \n",
       "G2021H029984        1 Passage Sécurité, 75015 PARIS        75015   \n",
       "G2021H030811      16 Rue Clovis Hugues, 75019 PARIS        75019   \n",
       "\n",
       "              ARRONDISSEMENT DATE DECLARATION       OUTIL SOURCE  \\\n",
       "ID_DMR                                                             \n",
       "A2021E060183              14       2021-05-26            IOS App   \n",
       "G2021E060186              13       2021-05-26        Android App   \n",
       "G2021E060949               9       2021-05-26        Android App   \n",
       "G2021E060973              11       2021-05-26        Android App   \n",
       "S2021E061788              10       2021-05-26  Web page DMRParis   \n",
       "...                      ...              ...                ...   \n",
       "A2021H033269              11       2021-08-17            IOS App   \n",
       "G2021H033275              11       2021-08-17        Android App   \n",
       "G2021H029981              12       2021-08-16        Android App   \n",
       "G2021H029984              15       2021-08-16        Android App   \n",
       "G2021H030811              19       2021-08-16        Android App   \n",
       "\n",
       "                                             INTERVENANT  \\\n",
       "ID_DMR                                                     \n",
       "A2021E060183                      DPE-STPP-Fonctionnelle   \n",
       "G2021E060186                                   graffitis   \n",
       "G2021E060949                                   DPMP-SCOP   \n",
       "G2021E060973  Ramen en tant que prestataire de DansMaRue   \n",
       "S2021E061788   DPMP avec un découpage en circonscription   \n",
       "...                                                  ...   \n",
       "A2021H033269                                    DPMP-UEV   \n",
       "G2021H033275  Ramen en tant que prestataire de DansMaRue   \n",
       "G2021H029981                                   graffitis   \n",
       "G2021H029984  Ramen en tant que prestataire de DansMaRue   \n",
       "G2021H030811  Ramen en tant que prestataire de DansMaRue   \n",
       "\n",
       "                              Coordonnées Lat/Long  \n",
       "ID_DMR                                              \n",
       "A2021E060183   48.83457599694037,2.321546598387263  \n",
       "G2021E060186  48.839469995367125,2.361047697391806  \n",
       "G2021E060949   48.87154799553221,2.336885696482044  \n",
       "G2021E060973   48.86221999949007,2.384709806533554  \n",
       "S2021E061788  48.871597003272086,2.365587005327079  \n",
       "...                                            ...  \n",
       "A2021H033269  48.854323999797636,2.395608996599215  \n",
       "G2021H033275   48.85287000096654,2.389044001054556  \n",
       "G2021H029981   48.84868599841297,2.375873306775234  \n",
       "G2021H029984  48.84935999657759,2.2965802985234403  \n",
       "G2021H030811   48.88255000234474,2.373852006423219  \n",
       "\n",
       "[940711 rows x 9 columns]"
      ]
     },
     "execution_count": 128,
     "metadata": {},
     "output_type": "execute_result"
    }
   ],
   "source": [
    "dmr"
   ]
  },
  {
   "cell_type": "code",
   "execution_count": 127,
   "id": "a721eb62",
   "metadata": {},
   "outputs": [],
   "source": [
    "dmr.to_csv('dfdmr_clean.csv')"
   ]
  },
  {
   "cell_type": "code",
   "execution_count": null,
   "id": "0f8644fb",
   "metadata": {},
   "outputs": [],
   "source": []
  }
 ],
 "metadata": {
  "kernelspec": {
   "display_name": "Python 3 (ipykernel)",
   "language": "python",
   "name": "python3"
  },
  "language_info": {
   "codemirror_mode": {
    "name": "ipython",
    "version": 3
   },
   "file_extension": ".py",
   "mimetype": "text/x-python",
   "name": "python",
   "nbconvert_exporter": "python",
   "pygments_lexer": "ipython3",
   "version": "3.9.12"
  }
 },
 "nbformat": 4,
 "nbformat_minor": 5
}
