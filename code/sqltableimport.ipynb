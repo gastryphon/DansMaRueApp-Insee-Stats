{
 "cells": [
  {
   "cell_type": "code",
   "execution_count": 1,
   "id": "abd1dcd4",
   "metadata": {},
   "outputs": [
    {
     "name": "stdout",
     "output_type": "stream",
     "text": [
      "Requirement already satisfied: mysqlclient in ./opt/anaconda3/lib/python3.9/site-packages (2.1.0)\r\n"
     ]
    }
   ],
   "source": [
    "!pip install mysqlclient"
   ]
  },
  {
   "cell_type": "code",
   "execution_count": 7,
   "id": "de11a662",
   "metadata": {},
   "outputs": [],
   "source": [
    "import sqlalchemy as db\n",
    "import pandas as pd\n",
    "from sqlalchemy import create_engine"
   ]
  },
  {
   "cell_type": "code",
   "execution_count": 4,
   "id": "20479319",
   "metadata": {},
   "outputs": [],
   "source": [
    "# send to sql\n",
    "engine = db.create_engine('mysql://root:@localhost:3306/rncp1')\n"
   ]
  },
  {
   "cell_type": "code",
   "execution_count": 5,
   "id": "cbfa52ce",
   "metadata": {},
   "outputs": [],
   "source": [
    "connection = engine.connect()"
   ]
  },
  {
   "cell_type": "code",
   "execution_count": 8,
   "id": "2f4f9ac7",
   "metadata": {},
   "outputs": [],
   "source": [
    "dffisc=pd.read_csv(r'/Users/davidpitoun/RNCP_project/db csv/fiscaldf.csv')"
   ]
  },
  {
   "cell_type": "code",
   "execution_count": 9,
   "id": "0968720c",
   "metadata": {},
   "outputs": [
    {
     "data": {
      "text/plain": [
       "20"
      ]
     },
     "execution_count": 9,
     "metadata": {},
     "output_type": "execute_result"
    }
   ],
   "source": [
    "dffisc.to_sql('fiscal_data', engine, if_exists='replace', index=False)\n"
   ]
  },
  {
   "cell_type": "code",
   "execution_count": 14,
   "id": "21305f78",
   "metadata": {},
   "outputs": [],
   "source": [
    "dblocations=pd.read_csv(r'/Users/davidpitoun/RNCP_project/db csv/locationsdf.csv')"
   ]
  },
  {
   "cell_type": "code",
   "execution_count": 15,
   "id": "5ab8d074",
   "metadata": {},
   "outputs": [
    {
     "data": {
      "text/plain": [
       "20"
      ]
     },
     "execution_count": 15,
     "metadata": {},
     "output_type": "execute_result"
    }
   ],
   "source": [
    "dblocations.to_sql('neighborhoods', engine, if_exists='replace', index=False)\n"
   ]
  },
  {
   "cell_type": "code",
   "execution_count": 16,
   "id": "c5ec4c96",
   "metadata": {},
   "outputs": [],
   "source": [
    "dbreports=pd.read_csv(r'/Users/davidpitoun/RNCP_project/db csv/reportsdf.csv')"
   ]
  },
  {
   "cell_type": "code",
   "execution_count": 19,
   "id": "227a3677",
   "metadata": {},
   "outputs": [
    {
     "data": {
      "text/plain": [
       "940711"
      ]
     },
     "execution_count": 19,
     "metadata": {},
     "output_type": "execute_result"
    }
   ],
   "source": [
    "dbreports.to_sql('reports/signalements', engine, if_exists='replace', index=False)"
   ]
  },
  {
   "cell_type": "code",
   "execution_count": 20,
   "id": "12244f47",
   "metadata": {},
   "outputs": [],
   "source": [
    "dbsocioeco=pd.read_csv(r'/Users/davidpitoun/RNCP_project/db csv/socioecodf.csv')"
   ]
  },
  {
   "cell_type": "code",
   "execution_count": 22,
   "id": "0f3b65c4",
   "metadata": {},
   "outputs": [
    {
     "data": {
      "text/plain": [
       "20"
      ]
     },
     "execution_count": 22,
     "metadata": {},
     "output_type": "execute_result"
    }
   ],
   "source": [
    "dbsocioeco.to_sql('socio-eco stats', engine, if_exists='replace', index=False)"
   ]
  },
  {
   "cell_type": "code",
   "execution_count": null,
   "id": "f85c1382",
   "metadata": {},
   "outputs": [],
   "source": []
  }
 ],
 "metadata": {
  "kernelspec": {
   "display_name": "Python 3 (ipykernel)",
   "language": "python",
   "name": "python3"
  },
  "language_info": {
   "codemirror_mode": {
    "name": "ipython",
    "version": 3
   },
   "file_extension": ".py",
   "mimetype": "text/x-python",
   "name": "python",
   "nbconvert_exporter": "python",
   "pygments_lexer": "ipython3",
   "version": "3.9.12"
  }
 },
 "nbformat": 4,
 "nbformat_minor": 5
}
