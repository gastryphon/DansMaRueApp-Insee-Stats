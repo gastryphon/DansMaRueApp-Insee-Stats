{
 "cells": [
  {
   "cell_type": "code",
   "execution_count": 10,
   "id": "715c82ec",
   "metadata": {},
   "outputs": [],
   "source": [
    "import pandas as pd\n",
    "socioeco_insee=pd.read_csv(r'/Users/davidpitoun/dfinsee_clean.csv')"
   ]
  },
  {
   "cell_type": "code",
   "execution_count": 11,
   "id": "f9157d55",
   "metadata": {},
   "outputs": [
    {
     "data": {
      "text/plain": [
       "Index(['Arrondissement', 'Population 2012',\n",
       "       'Commerces, transports et services divers 2018',\n",
       "       'Taux de pauvreté 2018', 'Superficie (en km2)',\n",
       "       'Résidences principales 2017', 'Ménages fiscaux 2018',\n",
       "       'Résidences secondaires et logements occasionnels 2017',\n",
       "       'Personnes actives de 15 à 64 ans 2017', 'Population 2017',\n",
       "       'Médiane du niveau de vie 2018',\n",
       "       'Nombre de chômeurs de 15 à 64 ans 2017', 'Emplois Salariés 2017',\n",
       "       'Part des ménages fiscaux imposés 2018', 'Logements 2017',\n",
       "       'Logements Vacants 2017'],\n",
       "      dtype='object')"
      ]
     },
     "execution_count": 11,
     "metadata": {},
     "output_type": "execute_result"
    }
   ],
   "source": [
    "socioeco_insee.columns"
   ]
  },
  {
   "cell_type": "code",
   "execution_count": 12,
   "id": "8cb70ba6",
   "metadata": {},
   "outputs": [],
   "source": [
    "socioecodf = socioeco_insee[['Arrondissement', 'Médiane du niveau de vie 2018','Emplois Salariés 2017',\n",
    "                             'Nombre de chômeurs de 15 à 64 ans 2017','Personnes actives de 15 à 64 ans 2017',\n",
    "                             'Taux de pauvreté 2018','Population 2017', \n",
    "                             'Commerces, transports et services divers 2018']]"
   ]
  },
  {
   "cell_type": "code",
   "execution_count": 13,
   "id": "75444bd1",
   "metadata": {},
   "outputs": [],
   "source": [
    "socioecodf = socioecodf.set_index('Arrondissement')"
   ]
  },
  {
   "cell_type": "code",
   "execution_count": 15,
   "id": "560bc921",
   "metadata": {},
   "outputs": [],
   "source": [
    "socioecodf = socioecodf.rename(columns={'Médiane du niveau de vie 2018':'Mediane du niveau de vie 2018'})\n"
   ]
  },
  {
   "cell_type": "code",
   "execution_count": 16,
   "id": "40746539",
   "metadata": {},
   "outputs": [],
   "source": [
    "socioecodf = socioecodf.rename(columns={'Taux de pauvreté 2018':'Taux de pauvrete 2018'})\n"
   ]
  },
  {
   "cell_type": "code",
   "execution_count": 18,
   "id": "e6e2f219",
   "metadata": {},
   "outputs": [],
   "source": [
    "socioecodf = socioecodf.rename(columns={'Emplois Salariés 2017':'Emplois Salaries 2017'})\n"
   ]
  },
  {
   "cell_type": "code",
   "execution_count": 20,
   "id": "839c19bf",
   "metadata": {},
   "outputs": [],
   "source": [
    "socioecodf=socioecodf.round(1)"
   ]
  },
  {
   "cell_type": "code",
   "execution_count": 21,
   "id": "1fac15ee",
   "metadata": {},
   "outputs": [],
   "source": [
    "socioecodf.to_csv('socioecodf.csv')"
   ]
  },
  {
   "cell_type": "code",
   "execution_count": null,
   "id": "bab4899b",
   "metadata": {},
   "outputs": [],
   "source": []
  }
 ],
 "metadata": {
  "kernelspec": {
   "display_name": "Python 3 (ipykernel)",
   "language": "python",
   "name": "python3"
  },
  "language_info": {
   "codemirror_mode": {
    "name": "ipython",
    "version": 3
   },
   "file_extension": ".py",
   "mimetype": "text/x-python",
   "name": "python",
   "nbconvert_exporter": "python",
   "pygments_lexer": "ipython3",
   "version": "3.9.12"
  }
 },
 "nbformat": 4,
 "nbformat_minor": 5
}
