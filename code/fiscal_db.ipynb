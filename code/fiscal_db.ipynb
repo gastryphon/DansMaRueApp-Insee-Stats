{
 "cells": [
  {
   "cell_type": "code",
   "execution_count": 1,
   "id": "865c50c4",
   "metadata": {},
   "outputs": [],
   "source": [
    "import pandas as pd\n",
    "socioeco_insee=pd.read_csv(r'/Users/davidpitoun/dfinsee_clean.csv')"
   ]
  },
  {
   "cell_type": "code",
   "execution_count": 2,
   "id": "2ac8fed2",
   "metadata": {},
   "outputs": [
    {
     "data": {
      "text/plain": [
       "Index(['Arrondissement', 'Population 2012',\n",
       "       'Commerces, transports et services divers 2018',\n",
       "       'Taux de pauvreté 2018', 'Superficie (en km2)',\n",
       "       'Résidences principales 2017', 'Ménages fiscaux 2018',\n",
       "       'Résidences secondaires et logements occasionnels 2017',\n",
       "       'Personnes actives de 15 à 64 ans 2017', 'Population 2017',\n",
       "       'Médiane du niveau de vie 2018',\n",
       "       'Nombre de chômeurs de 15 à 64 ans 2017', 'Emplois Salariés 2017',\n",
       "       'Part des ménages fiscaux imposés 2018', 'Logements 2017',\n",
       "       'Logements Vacants 2017'],\n",
       "      dtype='object')"
      ]
     },
     "execution_count": 2,
     "metadata": {},
     "output_type": "execute_result"
    }
   ],
   "source": [
    "socioeco_insee.columns"
   ]
  },
  {
   "cell_type": "code",
   "execution_count": 3,
   "id": "29472d94",
   "metadata": {},
   "outputs": [],
   "source": [
    "fiscal = socioeco_insee[['Arrondissement','Ménages fiscaux 2018',\n",
    "       'Part des ménages fiscaux imposés 2018','Résidences principales 2017']]"
   ]
  },
  {
   "cell_type": "code",
   "execution_count": 4,
   "id": "e5d4b9e7",
   "metadata": {},
   "outputs": [],
   "source": [
    "fiscal = fiscal.set_index('Arrondissement')"
   ]
  },
  {
   "cell_type": "code",
   "execution_count": 13,
   "id": "229772f1",
   "metadata": {},
   "outputs": [],
   "source": [
    "fiscal = fiscal.rename(columns={'Ménages fiscaux 2018':'Menages fiscaux 2018'})\n"
   ]
  },
  {
   "cell_type": "code",
   "execution_count": 9,
   "id": "8ba9cdc2",
   "metadata": {},
   "outputs": [],
   "source": [
    "fiscal = fiscal.rename(columns={'Part des ménages fiscaux imposés 2018':'Part des menages fiscaux imposés 2018'})\n"
   ]
  },
  {
   "cell_type": "code",
   "execution_count": 10,
   "id": "3be186b6",
   "metadata": {},
   "outputs": [],
   "source": [
    "fiscal = fiscal.rename(columns={'Résidences principales 2017':'Residences principales 2017'})\n"
   ]
  },
  {
   "cell_type": "code",
   "execution_count": 15,
   "id": "ac5be804",
   "metadata": {},
   "outputs": [],
   "source": [
    "fiscal=fiscal.round(1)"
   ]
  },
  {
   "cell_type": "code",
   "execution_count": 16,
   "id": "df4016cb",
   "metadata": {},
   "outputs": [],
   "source": [
    "fiscal.to_csv('fiscaldf.csv')"
   ]
  },
  {
   "cell_type": "code",
   "execution_count": 17,
   "id": "cdbfe096",
   "metadata": {},
   "outputs": [
    {
     "data": {
      "text/html": [
       "<div>\n",
       "<style scoped>\n",
       "    .dataframe tbody tr th:only-of-type {\n",
       "        vertical-align: middle;\n",
       "    }\n",
       "\n",
       "    .dataframe tbody tr th {\n",
       "        vertical-align: top;\n",
       "    }\n",
       "\n",
       "    .dataframe thead th {\n",
       "        text-align: right;\n",
       "    }\n",
       "</style>\n",
       "<table border=\"1\" class=\"dataframe\">\n",
       "  <thead>\n",
       "    <tr style=\"text-align: right;\">\n",
       "      <th></th>\n",
       "      <th>Menages fiscaux 2018</th>\n",
       "      <th>Part des menages fiscaux imposés 2018</th>\n",
       "      <th>Residences principales 2017</th>\n",
       "    </tr>\n",
       "    <tr>\n",
       "      <th>Arrondissement</th>\n",
       "      <th></th>\n",
       "      <th></th>\n",
       "      <th></th>\n",
       "    </tr>\n",
       "  </thead>\n",
       "  <tbody>\n",
       "    <tr>\n",
       "      <th>19</th>\n",
       "      <td>78988.0</td>\n",
       "      <td>58.6</td>\n",
       "      <td>87120.3</td>\n",
       "    </tr>\n",
       "    <tr>\n",
       "      <th>1</th>\n",
       "      <td>8509.0</td>\n",
       "      <td>74.0</td>\n",
       "      <td>9277.0</td>\n",
       "    </tr>\n",
       "    <tr>\n",
       "      <th>11</th>\n",
       "      <td>75253.0</td>\n",
       "      <td>70.5</td>\n",
       "      <td>83621.3</td>\n",
       "    </tr>\n",
       "    <tr>\n",
       "      <th>14</th>\n",
       "      <td>63432.0</td>\n",
       "      <td>69.9</td>\n",
       "      <td>69385.8</td>\n",
       "    </tr>\n",
       "    <tr>\n",
       "      <th>8</th>\n",
       "      <td>17472.0</td>\n",
       "      <td>76.5</td>\n",
       "      <td>17870.1</td>\n",
       "    </tr>\n",
       "    <tr>\n",
       "      <th>16</th>\n",
       "      <td>73669.0</td>\n",
       "      <td>73.0</td>\n",
       "      <td>82657.5</td>\n",
       "    </tr>\n",
       "    <tr>\n",
       "      <th>3</th>\n",
       "      <td>17723.0</td>\n",
       "      <td>72.5</td>\n",
       "      <td>19927.3</td>\n",
       "    </tr>\n",
       "    <tr>\n",
       "      <th>15</th>\n",
       "      <td>111646.0</td>\n",
       "      <td>73.3</td>\n",
       "      <td>124530.3</td>\n",
       "    </tr>\n",
       "    <tr>\n",
       "      <th>2</th>\n",
       "      <td>11629.0</td>\n",
       "      <td>72.2</td>\n",
       "      <td>11992.1</td>\n",
       "    </tr>\n",
       "    <tr>\n",
       "      <th>5</th>\n",
       "      <td>25981.0</td>\n",
       "      <td>72.9</td>\n",
       "      <td>32467.1</td>\n",
       "    </tr>\n",
       "    <tr>\n",
       "      <th>10</th>\n",
       "      <td>44605.0</td>\n",
       "      <td>68.5</td>\n",
       "      <td>47432.1</td>\n",
       "    </tr>\n",
       "    <tr>\n",
       "      <th>17</th>\n",
       "      <td>80896.0</td>\n",
       "      <td>71.5</td>\n",
       "      <td>88741.5</td>\n",
       "    </tr>\n",
       "    <tr>\n",
       "      <th>18</th>\n",
       "      <td>91254.0</td>\n",
       "      <td>63.8</td>\n",
       "      <td>104862.6</td>\n",
       "    </tr>\n",
       "    <tr>\n",
       "      <th>7</th>\n",
       "      <td>24129.0</td>\n",
       "      <td>77.2</td>\n",
       "      <td>27565.0</td>\n",
       "    </tr>\n",
       "    <tr>\n",
       "      <th>12</th>\n",
       "      <td>68320.0</td>\n",
       "      <td>71.8</td>\n",
       "      <td>74112.1</td>\n",
       "    </tr>\n",
       "    <tr>\n",
       "      <th>9</th>\n",
       "      <td>29658.0</td>\n",
       "      <td>74.4</td>\n",
       "      <td>31768.0</td>\n",
       "    </tr>\n",
       "    <tr>\n",
       "      <th>4</th>\n",
       "      <td>13979.0</td>\n",
       "      <td>71.5</td>\n",
       "      <td>15962.6</td>\n",
       "    </tr>\n",
       "    <tr>\n",
       "      <th>6</th>\n",
       "      <td>18434.0</td>\n",
       "      <td>75.1</td>\n",
       "      <td>22697.2</td>\n",
       "    </tr>\n",
       "    <tr>\n",
       "      <th>13</th>\n",
       "      <td>80357.0</td>\n",
       "      <td>65.3</td>\n",
       "      <td>91265.1</td>\n",
       "    </tr>\n",
       "    <tr>\n",
       "      <th>20</th>\n",
       "      <td>89787.0</td>\n",
       "      <td>62.1</td>\n",
       "      <td>98368.3</td>\n",
       "    </tr>\n",
       "  </tbody>\n",
       "</table>\n",
       "</div>"
      ],
      "text/plain": [
       "                Menages fiscaux 2018  Part des menages fiscaux imposés 2018  \\\n",
       "Arrondissement                                                                \n",
       "19                           78988.0                                   58.6   \n",
       "1                             8509.0                                   74.0   \n",
       "11                           75253.0                                   70.5   \n",
       "14                           63432.0                                   69.9   \n",
       "8                            17472.0                                   76.5   \n",
       "16                           73669.0                                   73.0   \n",
       "3                            17723.0                                   72.5   \n",
       "15                          111646.0                                   73.3   \n",
       "2                            11629.0                                   72.2   \n",
       "5                            25981.0                                   72.9   \n",
       "10                           44605.0                                   68.5   \n",
       "17                           80896.0                                   71.5   \n",
       "18                           91254.0                                   63.8   \n",
       "7                            24129.0                                   77.2   \n",
       "12                           68320.0                                   71.8   \n",
       "9                            29658.0                                   74.4   \n",
       "4                            13979.0                                   71.5   \n",
       "6                            18434.0                                   75.1   \n",
       "13                           80357.0                                   65.3   \n",
       "20                           89787.0                                   62.1   \n",
       "\n",
       "                Residences principales 2017  \n",
       "Arrondissement                               \n",
       "19                                  87120.3  \n",
       "1                                    9277.0  \n",
       "11                                  83621.3  \n",
       "14                                  69385.8  \n",
       "8                                   17870.1  \n",
       "16                                  82657.5  \n",
       "3                                   19927.3  \n",
       "15                                 124530.3  \n",
       "2                                   11992.1  \n",
       "5                                   32467.1  \n",
       "10                                  47432.1  \n",
       "17                                  88741.5  \n",
       "18                                 104862.6  \n",
       "7                                   27565.0  \n",
       "12                                  74112.1  \n",
       "9                                   31768.0  \n",
       "4                                   15962.6  \n",
       "6                                   22697.2  \n",
       "13                                  91265.1  \n",
       "20                                  98368.3  "
      ]
     },
     "execution_count": 17,
     "metadata": {},
     "output_type": "execute_result"
    }
   ],
   "source": [
    "fiscal"
   ]
  },
  {
   "cell_type": "code",
   "execution_count": null,
   "id": "e0fb4153",
   "metadata": {},
   "outputs": [],
   "source": []
  }
 ],
 "metadata": {
  "kernelspec": {
   "display_name": "Python 3 (ipykernel)",
   "language": "python",
   "name": "python3"
  },
  "language_info": {
   "codemirror_mode": {
    "name": "ipython",
    "version": 3
   },
   "file_extension": ".py",
   "mimetype": "text/x-python",
   "name": "python",
   "nbconvert_exporter": "python",
   "pygments_lexer": "ipython3",
   "version": "3.9.12"
  }
 },
 "nbformat": 4,
 "nbformat_minor": 5
}
