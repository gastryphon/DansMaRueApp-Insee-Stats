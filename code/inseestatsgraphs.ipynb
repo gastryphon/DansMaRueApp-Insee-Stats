{
 "cells": [
  {
   "cell_type": "code",
   "execution_count": 1,
   "id": "65520430",
   "metadata": {},
   "outputs": [],
   "source": [
    "import pandas as pd\n",
    "import matplotlib.pyplot as plt\n",
    "import math\n",
    "import numpy as np"
   ]
  },
  {
   "cell_type": "code",
   "execution_count": 4,
   "id": "a4896e55",
   "metadata": {},
   "outputs": [],
   "source": [
    "df = pd.read_csv(r'/Users/davidpitoun/RNCP_project/db csv/socioecodf.csv')"
   ]
  },
  {
   "cell_type": "code",
   "execution_count": 5,
   "id": "6837d996",
   "metadata": {},
   "outputs": [
    {
     "data": {
      "text/html": [
       "<div>\n",
       "<style scoped>\n",
       "    .dataframe tbody tr th:only-of-type {\n",
       "        vertical-align: middle;\n",
       "    }\n",
       "\n",
       "    .dataframe tbody tr th {\n",
       "        vertical-align: top;\n",
       "    }\n",
       "\n",
       "    .dataframe thead th {\n",
       "        text-align: right;\n",
       "    }\n",
       "</style>\n",
       "<table border=\"1\" class=\"dataframe\">\n",
       "  <thead>\n",
       "    <tr style=\"text-align: right;\">\n",
       "      <th></th>\n",
       "      <th>Arrondissement</th>\n",
       "      <th>Mediane du niveau de vie 2018</th>\n",
       "      <th>Emplois Salaries 2017</th>\n",
       "      <th>Nombre de chômeurs de 15 à 64 ans 2017</th>\n",
       "      <th>Personnes actives de 15 à 64 ans 2017</th>\n",
       "      <th>Taux de pauvrete 2018</th>\n",
       "      <th>Population 2017</th>\n",
       "      <th>Commerces, transports et services divers 2018</th>\n",
       "    </tr>\n",
       "  </thead>\n",
       "  <tbody>\n",
       "    <tr>\n",
       "      <th>0</th>\n",
       "      <td>19</td>\n",
       "      <td>20900.0</td>\n",
       "      <td>78065.9</td>\n",
       "      <td>16087.3</td>\n",
       "      <td>97874.1</td>\n",
       "      <td>23.3</td>\n",
       "      <td>187015.0</td>\n",
       "      <td>4700.0</td>\n",
       "    </tr>\n",
       "    <tr>\n",
       "      <th>1</th>\n",
       "      <td>1</td>\n",
       "      <td>34350.0</td>\n",
       "      <td>55232.7</td>\n",
       "      <td>992.2</td>\n",
       "      <td>9024.7</td>\n",
       "      <td>10.9</td>\n",
       "      <td>16266.0</td>\n",
       "      <td>5704.0</td>\n",
       "    </tr>\n",
       "    <tr>\n",
       "      <th>2</th>\n",
       "      <td>11</td>\n",
       "      <td>28530.0</td>\n",
       "      <td>63826.4</td>\n",
       "      <td>10185.9</td>\n",
       "      <td>88206.9</td>\n",
       "      <td>14.4</td>\n",
       "      <td>146643.0</td>\n",
       "      <td>8564.0</td>\n",
       "    </tr>\n",
       "    <tr>\n",
       "      <th>3</th>\n",
       "      <td>14</td>\n",
       "      <td>28340.0</td>\n",
       "      <td>70723.8</td>\n",
       "      <td>8064.7</td>\n",
       "      <td>70253.8</td>\n",
       "      <td>12.8</td>\n",
       "      <td>135964.0</td>\n",
       "      <td>5546.0</td>\n",
       "    </tr>\n",
       "    <tr>\n",
       "      <th>4</th>\n",
       "      <td>8</td>\n",
       "      <td>43520.0</td>\n",
       "      <td>155268.7</td>\n",
       "      <td>1720.8</td>\n",
       "      <td>19329.0</td>\n",
       "      <td>9.0</td>\n",
       "      <td>36808.0</td>\n",
       "      <td>18106.0</td>\n",
       "    </tr>\n",
       "    <tr>\n",
       "      <th>5</th>\n",
       "      <td>16</td>\n",
       "      <td>40400.0</td>\n",
       "      <td>96535.4</td>\n",
       "      <td>7738.6</td>\n",
       "      <td>77154.1</td>\n",
       "      <td>10.8</td>\n",
       "      <td>166361.0</td>\n",
       "      <td>12356.0</td>\n",
       "    </tr>\n",
       "    <tr>\n",
       "      <th>6</th>\n",
       "      <td>3</td>\n",
       "      <td>33060.0</td>\n",
       "      <td>25457.8</td>\n",
       "      <td>2157.9</td>\n",
       "      <td>20890.3</td>\n",
       "      <td>12.7</td>\n",
       "      <td>34115.0</td>\n",
       "      <td>4171.0</td>\n",
       "    </tr>\n",
       "    <tr>\n",
       "      <th>7</th>\n",
       "      <td>15</td>\n",
       "      <td>31760.0</td>\n",
       "      <td>158787.1</td>\n",
       "      <td>12073.0</td>\n",
       "      <td>123992.0</td>\n",
       "      <td>11.5</td>\n",
       "      <td>233392.0</td>\n",
       "      <td>9950.0</td>\n",
       "    </tr>\n",
       "    <tr>\n",
       "      <th>8</th>\n",
       "      <td>2</td>\n",
       "      <td>32700.0</td>\n",
       "      <td>55557.2</td>\n",
       "      <td>1394.1</td>\n",
       "      <td>13869.9</td>\n",
       "      <td>13.6</td>\n",
       "      <td>20900.0</td>\n",
       "      <td>6064.0</td>\n",
       "    </tr>\n",
       "    <tr>\n",
       "      <th>9</th>\n",
       "      <td>5</td>\n",
       "      <td>34250.0</td>\n",
       "      <td>46459.4</td>\n",
       "      <td>2794.4</td>\n",
       "      <td>29016.5</td>\n",
       "      <td>10.7</td>\n",
       "      <td>58850.0</td>\n",
       "      <td>4029.0</td>\n",
       "    </tr>\n",
       "    <tr>\n",
       "      <th>10</th>\n",
       "      <td>10</td>\n",
       "      <td>27420.0</td>\n",
       "      <td>71481.5</td>\n",
       "      <td>6831.7</td>\n",
       "      <td>53975.6</td>\n",
       "      <td>16.9</td>\n",
       "      <td>90372.0</td>\n",
       "      <td>7629.0</td>\n",
       "    </tr>\n",
       "    <tr>\n",
       "      <th>11</th>\n",
       "      <td>17</td>\n",
       "      <td>31940.0</td>\n",
       "      <td>88978.7</td>\n",
       "      <td>10558.6</td>\n",
       "      <td>93352.6</td>\n",
       "      <td>13.9</td>\n",
       "      <td>167288.0</td>\n",
       "      <td>11510.0</td>\n",
       "    </tr>\n",
       "    <tr>\n",
       "      <th>12</th>\n",
       "      <td>18</td>\n",
       "      <td>23160.0</td>\n",
       "      <td>72464.9</td>\n",
       "      <td>14469.0</td>\n",
       "      <td>113852.8</td>\n",
       "      <td>21.2</td>\n",
       "      <td>195233.0</td>\n",
       "      <td>6970.0</td>\n",
       "    </tr>\n",
       "    <tr>\n",
       "      <th>13</th>\n",
       "      <td>7</td>\n",
       "      <td>44490.0</td>\n",
       "      <td>61488.9</td>\n",
       "      <td>2385.9</td>\n",
       "      <td>25100.9</td>\n",
       "      <td>7.9</td>\n",
       "      <td>51367.0</td>\n",
       "      <td>5918.0</td>\n",
       "    </tr>\n",
       "    <tr>\n",
       "      <th>14</th>\n",
       "      <td>12</td>\n",
       "      <td>28780.0</td>\n",
       "      <td>107881.9</td>\n",
       "      <td>8216.2</td>\n",
       "      <td>77365.1</td>\n",
       "      <td>13.1</td>\n",
       "      <td>140296.0</td>\n",
       "      <td>6301.0</td>\n",
       "    </tr>\n",
       "    <tr>\n",
       "      <th>15</th>\n",
       "      <td>9</td>\n",
       "      <td>35390.0</td>\n",
       "      <td>104987.1</td>\n",
       "      <td>3492.9</td>\n",
       "      <td>35896.3</td>\n",
       "      <td>11.2</td>\n",
       "      <td>59555.0</td>\n",
       "      <td>10135.0</td>\n",
       "    </tr>\n",
       "    <tr>\n",
       "      <th>16</th>\n",
       "      <td>4</td>\n",
       "      <td>31930.0</td>\n",
       "      <td>35911.3</td>\n",
       "      <td>1694.2</td>\n",
       "      <td>15894.3</td>\n",
       "      <td>12.3</td>\n",
       "      <td>28088.0</td>\n",
       "      <td>3247.0</td>\n",
       "    </tr>\n",
       "    <tr>\n",
       "      <th>17</th>\n",
       "      <td>6</td>\n",
       "      <td>40730.0</td>\n",
       "      <td>38556.8</td>\n",
       "      <td>1871.6</td>\n",
       "      <td>18816.0</td>\n",
       "      <td>9.2</td>\n",
       "      <td>41100.0</td>\n",
       "      <td>5392.0</td>\n",
       "    </tr>\n",
       "    <tr>\n",
       "      <th>18</th>\n",
       "      <td>13</td>\n",
       "      <td>24720.0</td>\n",
       "      <td>113638.6</td>\n",
       "      <td>12305.5</td>\n",
       "      <td>95114.7</td>\n",
       "      <td>16.0</td>\n",
       "      <td>182099.0</td>\n",
       "      <td>5229.0</td>\n",
       "    </tr>\n",
       "    <tr>\n",
       "      <th>19</th>\n",
       "      <td>20</td>\n",
       "      <td>22100.0</td>\n",
       "      <td>61637.9</td>\n",
       "      <td>15687.9</td>\n",
       "      <td>106959.7</td>\n",
       "      <td>20.9</td>\n",
       "      <td>195814.0</td>\n",
       "      <td>4984.0</td>\n",
       "    </tr>\n",
       "  </tbody>\n",
       "</table>\n",
       "</div>"
      ],
      "text/plain": [
       "    Arrondissement  Mediane du niveau de vie 2018  Emplois Salaries 2017  \\\n",
       "0               19                        20900.0                78065.9   \n",
       "1                1                        34350.0                55232.7   \n",
       "2               11                        28530.0                63826.4   \n",
       "3               14                        28340.0                70723.8   \n",
       "4                8                        43520.0               155268.7   \n",
       "5               16                        40400.0                96535.4   \n",
       "6                3                        33060.0                25457.8   \n",
       "7               15                        31760.0               158787.1   \n",
       "8                2                        32700.0                55557.2   \n",
       "9                5                        34250.0                46459.4   \n",
       "10              10                        27420.0                71481.5   \n",
       "11              17                        31940.0                88978.7   \n",
       "12              18                        23160.0                72464.9   \n",
       "13               7                        44490.0                61488.9   \n",
       "14              12                        28780.0               107881.9   \n",
       "15               9                        35390.0               104987.1   \n",
       "16               4                        31930.0                35911.3   \n",
       "17               6                        40730.0                38556.8   \n",
       "18              13                        24720.0               113638.6   \n",
       "19              20                        22100.0                61637.9   \n",
       "\n",
       "    Nombre de chômeurs de 15 à 64 ans 2017  \\\n",
       "0                                  16087.3   \n",
       "1                                    992.2   \n",
       "2                                  10185.9   \n",
       "3                                   8064.7   \n",
       "4                                   1720.8   \n",
       "5                                   7738.6   \n",
       "6                                   2157.9   \n",
       "7                                  12073.0   \n",
       "8                                   1394.1   \n",
       "9                                   2794.4   \n",
       "10                                  6831.7   \n",
       "11                                 10558.6   \n",
       "12                                 14469.0   \n",
       "13                                  2385.9   \n",
       "14                                  8216.2   \n",
       "15                                  3492.9   \n",
       "16                                  1694.2   \n",
       "17                                  1871.6   \n",
       "18                                 12305.5   \n",
       "19                                 15687.9   \n",
       "\n",
       "    Personnes actives de 15 à 64 ans 2017  Taux de pauvrete 2018  \\\n",
       "0                                 97874.1                   23.3   \n",
       "1                                  9024.7                   10.9   \n",
       "2                                 88206.9                   14.4   \n",
       "3                                 70253.8                   12.8   \n",
       "4                                 19329.0                    9.0   \n",
       "5                                 77154.1                   10.8   \n",
       "6                                 20890.3                   12.7   \n",
       "7                                123992.0                   11.5   \n",
       "8                                 13869.9                   13.6   \n",
       "9                                 29016.5                   10.7   \n",
       "10                                53975.6                   16.9   \n",
       "11                                93352.6                   13.9   \n",
       "12                               113852.8                   21.2   \n",
       "13                                25100.9                    7.9   \n",
       "14                                77365.1                   13.1   \n",
       "15                                35896.3                   11.2   \n",
       "16                                15894.3                   12.3   \n",
       "17                                18816.0                    9.2   \n",
       "18                                95114.7                   16.0   \n",
       "19                               106959.7                   20.9   \n",
       "\n",
       "    Population 2017  Commerces, transports et services divers 2018  \n",
       "0          187015.0                                         4700.0  \n",
       "1           16266.0                                         5704.0  \n",
       "2          146643.0                                         8564.0  \n",
       "3          135964.0                                         5546.0  \n",
       "4           36808.0                                        18106.0  \n",
       "5          166361.0                                        12356.0  \n",
       "6           34115.0                                         4171.0  \n",
       "7          233392.0                                         9950.0  \n",
       "8           20900.0                                         6064.0  \n",
       "9           58850.0                                         4029.0  \n",
       "10          90372.0                                         7629.0  \n",
       "11         167288.0                                        11510.0  \n",
       "12         195233.0                                         6970.0  \n",
       "13          51367.0                                         5918.0  \n",
       "14         140296.0                                         6301.0  \n",
       "15          59555.0                                        10135.0  \n",
       "16          28088.0                                         3247.0  \n",
       "17          41100.0                                         5392.0  \n",
       "18         182099.0                                         5229.0  \n",
       "19         195814.0                                         4984.0  "
      ]
     },
     "execution_count": 5,
     "metadata": {},
     "output_type": "execute_result"
    }
   ],
   "source": [
    "df"
   ]
  },
  {
   "cell_type": "code",
   "execution_count": 10,
   "id": "fff882e6",
   "metadata": {},
   "outputs": [
    {
     "data": {
      "text/plain": [
       "Text(0.5, 1.0, 'Standard of Living Median by Neighborhood')"
      ]
     },
     "execution_count": 10,
     "metadata": {},
     "output_type": "execute_result"
    },
    {
     "data": {
      "image/png": "[encoded data removed]",
      "text/plain": [
       "<Figure size 432x288 with 1 Axes>"
      ]
     },
     "metadata": {
      "needs_background": "light"
     },
     "output_type": "display_data"
    }
   ],
   "source": [
    "medarr=df.groupby('Arrondissement')['Mediane du niveau de vie 2018'].sum()\n",
    "medarr.plot(kind='bar')\n",
    "plt.title('Standard of Living Median by Neighborhood')"
   ]
  },
  {
   "cell_type": "code",
   "execution_count": 12,
   "id": "ce115202",
   "metadata": {},
   "outputs": [
    {
     "data": {
      "text/plain": [
       "Text(0, 0.5, 'Poverty Rate')"
      ]
     },
     "execution_count": 12,
     "metadata": {},
     "output_type": "execute_result"
    },
    {
     "data": {
      "image/png": "[encoded data removed]",
      "text/plain": [
       "<Figure size 432x288 with 1 Axes>"
      ]
     },
     "metadata": {
      "needs_background": "light"
     },
     "output_type": "display_data"
    }
   ],
   "source": [
    "povarr=df.groupby('Arrondissement')['Taux de pauvrete 2018'].sum()\n",
    "povarr.plot(kind='bar')\n",
    "plt.title('Poverty Rate by Neighborhood')\n",
    "plt.ylabel('Poverty Rate')"
   ]
  },
  {
   "cell_type": "code",
   "execution_count": 19,
   "id": "99ce6314",
   "metadata": {},
   "outputs": [],
   "source": [
    "import seaborn as sns"
   ]
  },
  {
   "cell_type": "code",
   "execution_count": 26,
   "id": "52b71a37",
   "metadata": {},
   "outputs": [
    {
     "data": {
      "text/plain": [
       "<AxesSubplot:xlabel='Taux de pauvrete 2018', ylabel='Nombre de chômeurs de 15 à 64 ans 2017'>"
      ]
     },
     "execution_count": 26,
     "metadata": {},
     "output_type": "execute_result"
    },
    {
     "data": {
      "image/png": "[encoded data removed]",
      "text/plain": [
       "<Figure size 432x288 with 1 Axes>"
      ]
     },
     "metadata": {
      "needs_background": "light"
     },
     "output_type": "display_data"
    }
   ],
   "source": [
    "sns.regplot(x=\"Taux de pauvrete 2018\", y=\"Nombre de chômeurs de 15 à 64 ans 2017\", data=df)\n"
   ]
  },
  {
   "cell_type": "code",
   "execution_count": 31,
   "id": "ca2cd07a",
   "metadata": {},
   "outputs": [
    {
     "data": {
      "text/plain": [
       "<AxesSubplot:xlabel='Commerces, transports et services divers 2018', ylabel='Taux de pauvrete 2018'>"
      ]
     },
     "execution_count": 31,
     "metadata": {},
     "output_type": "execute_result"
    },
    {
     "data": {
      "image/png": "[encoded data removed]",
      "text/plain": [
       "<Figure size 432x288 with 1 Axes>"
      ]
     },
     "metadata": {
      "needs_background": "light"
     },
     "output_type": "display_data"
    }
   ],
   "source": [
    "sns.regplot(x=\"Commerces, transports et services divers 2018\", y=\"Taux de pauvrete 2018\",data=df)"
   ]
  },
  {
   "cell_type": "code",
   "execution_count": 33,
   "id": "095a01bf",
   "metadata": {},
   "outputs": [
    {
     "data": {
      "text/plain": [
       "<AxesSubplot:xlabel='Commerces, transports et services divers 2018', ylabel='Population 2017'>"
      ]
     },
     "execution_count": 33,
     "metadata": {},
     "output_type": "execute_result"
    },
    {
     "data": {
      "image/png": "[encoded data removed]",
      "text/plain": [
       "<Figure size 432x288 with 1 Axes>"
      ]
     },
     "metadata": {
      "needs_background": "light"
     },
     "output_type": "display_data"
    }
   ],
   "source": [
    "sns.regplot(x=\"Commerces, transports et services divers 2018\", y=\"Population 2017\",data=df)"
   ]
  },
  {
   "cell_type": "code",
   "execution_count": 32,
   "id": "0ccc2359",
   "metadata": {},
   "outputs": [
    {
     "data": {
      "text/plain": [
       "Index(['Arrondissement', 'Mediane du niveau de vie 2018',\n",
       "       'Emplois Salaries 2017', 'Nombre de chômeurs de 15 à 64 ans 2017',\n",
       "       'Personnes actives de 15 à 64 ans 2017', 'Taux de pauvrete 2018',\n",
       "       'Population 2017', 'Commerces, transports et services divers 2018'],\n",
       "      dtype='object')"
      ]
     },
     "execution_count": 32,
     "metadata": {},
     "output_type": "execute_result"
    }
   ],
   "source": [
    "df.columns"
   ]
  },
  {
   "cell_type": "code",
   "execution_count": 41,
   "id": "a4b64915",
   "metadata": {},
   "outputs": [
    {
     "data": {
      "text/plain": [
       "<AxesSubplot:xlabel='Commerces, transports et services divers 2018', ylabel='Mediane du niveau de vie 2018'>"
      ]
     },
     "execution_count": 41,
     "metadata": {},
     "output_type": "execute_result"
    },
    {
     "data": {
      "image/png": "[encoded data removed]",
      "text/plain": [
       "<Figure size 432x288 with 1 Axes>"
      ]
     },
     "metadata": {
      "needs_background": "light"
     },
     "output_type": "display_data"
    }
   ],
   "source": [
    "sns.regplot(x=\"Commerces, transports et services divers 2018\", y=\"Mediane du niveau de vie 2018\",data=df)"
   ]
  },
  {
   "cell_type": "code",
   "execution_count": null,
   "id": "508c0221",
   "metadata": {},
   "outputs": [],
   "source": []
  }
 ],
 "metadata": {
  "kernelspec": {
   "display_name": "Python 3 (ipykernel)",
   "language": "python",
   "name": "python3"
  },
  "language_info": {
   "codemirror_mode": {
    "name": "ipython",
    "version": 3
   },
   "file_extension": ".py",
   "mimetype": "text/x-python",
   "name": "python",
   "nbconvert_exporter": "python",
   "pygments_lexer": "ipython3",
   "version": "3.9.12"
  }
 },
 "nbformat": 4,
 "nbformat_minor": 5
}
