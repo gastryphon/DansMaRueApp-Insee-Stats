{
 "cells": [
  {
   "cell_type": "code",
   "execution_count": 8,
   "id": "bc6b7f19",
   "metadata": {},
   "outputs": [],
   "source": [
    "import pandas as pd"
   ]
  },
  {
   "cell_type": "code",
   "execution_count": 9,
   "id": "547cbbdf",
   "metadata": {},
   "outputs": [],
   "source": [
    "locations_dmr=pd.read_csv(r'/Users/davidpitoun/dfdmr_clean.csv')"
   ]
  },
  {
   "cell_type": "code",
   "execution_count": 10,
   "id": "06876fc0",
   "metadata": {},
   "outputs": [],
   "source": [
    "locations_insee=pd.read_csv(r'/Users/davidpitoun/dfinsee_clean.csv')"
   ]
  },
  {
   "cell_type": "code",
   "execution_count": 13,
   "id": "c7e42c9a",
   "metadata": {},
   "outputs": [
    {
     "data": {
      "text/plain": [
       "Index(['ID_DMR', 'TYPE DECLARATION', 'SOUS TYPE DECLARATION', 'ADRESSE',\n",
       "       'CODE POSTAL', 'ARRONDISSEMENT', 'DATE DECLARATION', 'OUTIL SOURCE',\n",
       "       'INTERVENANT', 'Coordonnées Lat/Long'],\n",
       "      dtype='object')"
      ]
     },
     "execution_count": 13,
     "metadata": {},
     "output_type": "execute_result"
    }
   ],
   "source": [
    "locations_dmr.columns"
   ]
  },
  {
   "cell_type": "code",
   "execution_count": 14,
   "id": "86b89ad8",
   "metadata": {},
   "outputs": [],
   "source": [
    "colfromdmr=locations_dmr[['ARRONDISSEMENT', 'CODE POSTAL']]"
   ]
  },
  {
   "cell_type": "code",
   "execution_count": 16,
   "id": "86759906",
   "metadata": {},
   "outputs": [
    {
     "data": {
      "text/plain": [
       "Index(['Arrondissement', 'Population 2012',\n",
       "       'Commerces, transports et services divers 2018',\n",
       "       'Taux de pauvreté 2018', 'Superficie (en km2)',\n",
       "       'Résidences principales 2017', 'Ménages fiscaux 2018',\n",
       "       'Résidences secondaires et logements occasionnels 2017',\n",
       "       'Personnes actives de 15 à 64 ans 2017', 'Population 2017',\n",
       "       'Médiane du niveau de vie 2018',\n",
       "       'Nombre de chômeurs de 15 à 64 ans 2017', 'Emplois Salariés 2017',\n",
       "       'Part des ménages fiscaux imposés 2018', 'Logements 2017',\n",
       "       'Logements Vacants 2017'],\n",
       "      dtype='object')"
      ]
     },
     "execution_count": 16,
     "metadata": {},
     "output_type": "execute_result"
    }
   ],
   "source": [
    "locations_insee.columns"
   ]
  },
  {
   "cell_type": "code",
   "execution_count": 17,
   "id": "03b4bdbc",
   "metadata": {},
   "outputs": [],
   "source": [
    "#colfrominsee=locations_insee[['Superficie (en km2)', 'Population 2012','Population 2017',\n",
    "                              'Résidences principales 2017',\n",
    "                              'Logements 2017','Logements Vacants 2017',\n",
    "                              'Résidences secondaires et logements occasionnels 2017',\n",
    "                              'Commerces, transports et services divers 2018']]"
   ]
  },
  {
   "cell_type": "code",
   "execution_count": 23,
   "id": "f2dbe4bc",
   "metadata": {},
   "outputs": [],
   "source": [
    "locdf = locations_insee[['Superficie (en km2)', 'Population 2012','Population 2017',\n",
    "                              'Résidences principales 2017',\n",
    "                              'Logements 2017','Logements Vacants 2017',\n",
    "                              'Résidences secondaires et logements occasionnels 2017',\n",
    "                              'Commerces, transports et services divers 2018']]"
   ]
  },
  {
   "cell_type": "code",
   "execution_count": 24,
   "id": "fe67fd9b",
   "metadata": {},
   "outputs": [],
   "source": [
    "locdf = locdf.join(colfromdmr)"
   ]
  },
  {
   "cell_type": "code",
   "execution_count": 28,
   "id": "755397d2",
   "metadata": {},
   "outputs": [],
   "source": [
    "locdf=locdf.set_index('ARRONDISSEMENT')"
   ]
  },
  {
   "cell_type": "code",
   "execution_count": 39,
   "id": "086237c7",
   "metadata": {},
   "outputs": [],
   "source": [
    "locdf = locdf.rename(columns={'Résidences principales 2017':'Residences principales 2017'})\n"
   ]
  },
  {
   "cell_type": "code",
   "execution_count": 40,
   "id": "89c9dd96",
   "metadata": {},
   "outputs": [],
   "source": [
    "locdf = locdf.rename(columns={'Résidences secondaires et logements occasionnels 2017':'Residences secondaires et logements occasionnels 2017'})"
   ]
  },
  {
   "cell_type": "code",
   "execution_count": 41,
   "id": "c4326705",
   "metadata": {},
   "outputs": [],
   "source": [
    "locdf=locdf.round(1)"
   ]
  },
  {
   "cell_type": "code",
   "execution_count": 44,
   "id": "b8035f40",
   "metadata": {},
   "outputs": [
    {
     "data": {
      "text/plain": [
       "Index(['Superficie (en km2)', 'Population 2012', 'Population 2017',\n",
       "       'Residences principales 2017', 'Logements 2017',\n",
       "       'Logements Vacants 2017',\n",
       "       'Residences secondaires et logements occasionnels 2017',\n",
       "       'Commerces, transports et services divers 2018', 'CODE POSTAL'],\n",
       "      dtype='object')"
      ]
     },
     "execution_count": 44,
     "metadata": {},
     "output_type": "execute_result"
    }
   ],
   "source": [
    "locdf.columns"
   ]
  },
  {
   "cell_type": "code",
   "execution_count": 43,
   "id": "c5dcfe63",
   "metadata": {},
   "outputs": [],
   "source": [
    "locdf.to_csv('locationsdf.csv')"
   ]
  }
 ],
 "metadata": {
  "kernelspec": {
   "display_name": "Python 3 (ipykernel)",
   "language": "python",
   "name": "python3"
  },
  "language_info": {
   "codemirror_mode": {
    "name": "ipython",
    "version": 3
   },
   "file_extension": ".py",
   "mimetype": "text/x-python",
   "name": "python",
   "nbconvert_exporter": "python",
   "pygments_lexer": "ipython3",
   "version": "3.9.12"
  }
 },
 "nbformat": 4,
 "nbformat_minor": 5
}
