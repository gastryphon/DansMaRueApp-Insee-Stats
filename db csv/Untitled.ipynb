{
 "cells": [
  {
   "cell_type": "code",
   "execution_count": 1,
   "id": "16a7d709",
   "metadata": {},
   "outputs": [],
   "source": [
    "import pandas as pd"
   ]
  },
  {
   "cell_type": "code",
   "execution_count": 2,
   "id": "648895a2",
   "metadata": {},
   "outputs": [],
   "source": [
    "dffisc=pd.read_csv(r'/Users/davidpitoun/RNCP_project/db csv/fiscaldf.csv')"
   ]
  },
  {
   "cell_type": "code",
   "execution_count": 15,
   "id": "40c0dfab",
   "metadata": {},
   "outputs": [
    {
     "data": {
      "text/plain": [
       "Index(['Arrondissement', 'Menages fiscaux 2018',\n",
       "       'Part des menages fiscaux imposes 2018', 'Residences principales 2017'],\n",
       "      dtype='object')"
      ]
     },
     "execution_count": 15,
     "metadata": {},
     "output_type": "execute_result"
    }
   ],
   "source": [
    "dffisc.columns"
   ]
  },
  {
   "cell_type": "code",
   "execution_count": 5,
   "id": "eabe940c",
   "metadata": {},
   "outputs": [],
   "source": [
    "dffisc = dffisc.rename(columns={'Part des menages fiscaux imposés 2018':'Part des menages fiscaux imposes 2018'})\n"
   ]
  },
  {
   "cell_type": "code",
   "execution_count": 6,
   "id": "79c749f1",
   "metadata": {},
   "outputs": [],
   "source": [
    "dffisc.to_csv('fiscaldf.csv')"
   ]
  },
  {
   "cell_type": "code",
   "execution_count": 11,
   "id": "debe9b46",
   "metadata": {},
   "outputs": [
    {
     "data": {
      "text/plain": [
       "dtype('int64')"
      ]
     },
     "execution_count": 11,
     "metadata": {},
     "output_type": "execute_result"
    }
   ],
   "source": [
    "dffisc['Arrondissement'].dtypes"
   ]
  },
  {
   "cell_type": "code",
   "execution_count": 12,
   "id": "db6b76d7",
   "metadata": {},
   "outputs": [
    {
     "data": {
      "text/plain": [
       "dtype('float64')"
      ]
     },
     "execution_count": 12,
     "metadata": {},
     "output_type": "execute_result"
    }
   ],
   "source": [
    "dffisc['Menages fiscaux 2018'].dtypes"
   ]
  },
  {
   "cell_type": "code",
   "execution_count": 14,
   "id": "88addf14",
   "metadata": {},
   "outputs": [
    {
     "data": {
      "text/plain": [
       "dtype('float64')"
      ]
     },
     "execution_count": 14,
     "metadata": {},
     "output_type": "execute_result"
    }
   ],
   "source": [
    "dffisc['Part des menages fiscaux imposes 2018'].dtypes"
   ]
  },
  {
   "cell_type": "code",
   "execution_count": 16,
   "id": "22e01641",
   "metadata": {},
   "outputs": [
    {
     "data": {
      "text/plain": [
       "dtype('float64')"
      ]
     },
     "execution_count": 16,
     "metadata": {},
     "output_type": "execute_result"
    }
   ],
   "source": [
    "dffisc['Residences principales 2017'].dtypes"
   ]
  },
  {
   "cell_type": "code",
   "execution_count": null,
   "id": "f47bc9fe",
   "metadata": {},
   "outputs": [],
   "source": []
  }
 ],
 "metadata": {
  "kernelspec": {
   "display_name": "Python 3 (ipykernel)",
   "language": "python",
   "name": "python3"
  },
  "language_info": {
   "codemirror_mode": {
    "name": "ipython",
    "version": 3
   },
   "file_extension": ".py",
   "mimetype": "text/x-python",
   "name": "python",
   "nbconvert_exporter": "python",
   "pygments_lexer": "ipython3",
   "version": "3.9.12"
  }
 },
 "nbformat": 4,
 "nbformat_minor": 5
}
